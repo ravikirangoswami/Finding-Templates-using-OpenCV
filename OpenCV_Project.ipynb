{
  "nbformat": 4,
  "nbformat_minor": 0,
  "metadata": {
    "colab": {
      "provenance": [],
      "authorship_tag": "ABX9TyPmcdVSPsMNgip19aZlYZhZ",
      "include_colab_link": true
    },
    "kernelspec": {
      "name": "python3",
      "display_name": "Python 3"
    },
    "language_info": {
      "name": "python"
    }
  },
  "cells": [
    {
      "cell_type": "markdown",
      "metadata": {
        "id": "view-in-github",
        "colab_type": "text"
      },
      "source": [
        "<a href=\"https://colab.research.google.com/github/ravikirangoswami/ravikirangoswami/blob/main/OpenCV_Project.ipynb\" target=\"_parent\"><img src=\"https://colab.research.google.com/assets/colab-badge.svg\" alt=\"Open In Colab\"/></a>"
      ]
    },
    {
      "cell_type": "code",
      "execution_count": 5,
      "metadata": {
        "colab": {
          "base_uri": "https://localhost:8080/"
        },
        "id": "xQTDE1L0eCDI",
        "outputId": "7488dfd4-ef90-4b60-f23f-f48f3b97d877"
      },
      "outputs": [
        {
          "output_type": "stream",
          "name": "stdout",
          "text": [
            "4.6.0\n",
            "[[-0.06465781 -0.0648769  -0.06522325 ...  0.05006592  0.05033612\n",
            "   0.05060473]\n",
            " [-0.06129019 -0.061731   -0.06225086 ...  0.05213491  0.05243642\n",
            "   0.05270686]\n",
            " [-0.05825637 -0.05890013 -0.05956441 ...  0.05277703  0.05301887\n",
            "   0.0531734 ]\n",
            " ...\n",
            " [ 0.          0.          0.         ...  0.          0.\n",
            "   0.        ]\n",
            " [ 0.          0.          0.         ...  0.          0.\n",
            "   0.        ]\n",
            " [ 0.          0.          0.         ...  0.          0.\n",
            "   0.        ]]\n",
            "(array([74]), array([586]))\n"
          ]
        }
      ],
      "source": [
        "#importing open cv library, numpy\n",
        "\n",
        "import cv2\n",
        "print(cv2.__version__)\n",
        "import numpy as np\n",
        "\n",
        "#reading the image\n",
        "\n",
        "img = cv2.imread(\"Main.jpg\")\n",
        "\n",
        "#converting to gray image\n",
        "\n",
        "grey_img = cv2.cvtColor(img, cv2.COLOR_BGR2GRAY)\n",
        "\n",
        "# reading the image to compare\n",
        "\n",
        "template = cv2.imread(\"upgrade.jpg\" , 0)\n",
        "\n",
        "#inverting the data given in width and heigt format\n",
        "\n",
        "w , h = template.shape[::-1]\n",
        "\n",
        "#check whether the comparing image matches with the gray image\n",
        "\n",
        "res = cv2.matchTemplate(grey_img, template, cv2.TM_CCOEFF_NORMED)\n",
        "\n",
        "\n",
        "print(res)\n",
        "\n",
        "#putting a minimum value of matching ---->threshold\n",
        "\n",
        "threshold = 0.99;\n",
        "loc = np.where(res >= threshold)\n",
        "\n",
        "print(loc)\n",
        "\n",
        "for pt in zip(*loc[::-1]):\n",
        "    cv2.rectangle(img, pt, (pt[0] + w, pt[1] + h), (0, 0, 255), 7)\n",
        "\n",
        "cv2.imshow(\"img\", img)\n",
        "cv2.waitKey(0)\n",
        "cv2.destroyAllWindows()\n",
        "\n",
        "\n",
        "\n",
        "\n"
      ]
    },
    {
      "cell_type": "code",
      "source": [],
      "metadata": {
        "id": "7-dyaS8XewJA"
      },
      "execution_count": null,
      "outputs": []
    }
  ]
}